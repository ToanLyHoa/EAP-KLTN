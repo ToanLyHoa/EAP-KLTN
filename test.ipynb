{
 "cells": [
  {
   "cell_type": "code",
   "execution_count": 1,
   "metadata": {},
   "outputs": [],
   "source": [
    "import os\n",
    "import pandas as pd\n",
    "\n",
    "path_dir = \"label/UCF-101\"\n",
    "\n",
    "def new_csv(path_dir):\n",
    "    '''\n",
    "    [Args]\n",
    "    path_dir : path to folder contain train.csv, val.csv and newClassInd.txt which hold labels of class remained\n",
    "\n",
    "    [Result]\n",
    "    Create new_train.csv and new_val.csv save at path_dir \n",
    "\n",
    "    '''\n",
    "    # Read path\n",
    "    train = os.path.join(path_dir,'train.csv')\n",
    "    val = os.path.join(path_dir,'val.csv')\n",
    "    new_class = os.path.join(path_dir,'newClassInd.txt')\n",
    "    new_train = os.path.join(path_dir,'new_train.csv')\n",
    "    new_val = os.path.join(path_dir,'new_val.csv')\n",
    "\n",
    "    if not os.path.exists(new_train):\n",
    "        open(new_train, 'w').close() \n",
    "    if not os.path.exists(new_val):\n",
    "        open(new_val, 'w').close() \n",
    "\n",
    "    df_csv_train= pd.read_csv(train)\n",
    "    df_csv_val = pd.read_csv(val)\n",
    "\n",
    "    # Take lables to keep in new file csv\n",
    "    with open(new_class,'r') as f:\n",
    "        labels_keep = set(line.strip().split(' ')[1] for line in f)\n",
    "\n",
    "    # Filter train.csv\n",
    "    df_filtered_train = df_csv_train[df_csv_train['label'].isin(labels_keep)]\n",
    "    df_filtered_train.to_csv(new_train, index=False)\n",
    "\n",
    "    # Filter val.csv\n",
    "    df_filtered_val = df_csv_val[df_csv_val['label'].isin(labels_keep)]\n",
    "    df_filtered_val.to_csv(new_val, index=False)\n",
    "\n",
    "new_csv(path_dir)\n",
    "\n",
    "\n"
   ]
  },
  {
   "cell_type": "code",
   "execution_count": 1,
   "metadata": {},
   "outputs": [],
   "source": [
    "import glob\n",
    "\n",
    "\n",
    "file = glob.glob('data/UCF-101-DB/*/*/n_frames')"
   ]
  },
  {
   "cell_type": "code",
   "execution_count": 4,
   "metadata": {},
   "outputs": [],
   "source": [
    "temp = []\n",
    "\n",
    "for f in file:\n",
    "    with open(f) as p:\n",
    "        temp.append(int(p.read()))"
   ]
  },
  {
   "cell_type": "code",
   "execution_count": 7,
   "metadata": {},
   "outputs": [
    {
     "data": {
      "text/plain": [
       "186.6584084084084"
      ]
     },
     "execution_count": 7,
     "metadata": {},
     "output_type": "execute_result"
    }
   ],
   "source": [
    "import numpy as np \n",
    "\n",
    "np.mean(temp)"
   ]
  },
  {
   "cell_type": "code",
   "execution_count": 1,
   "metadata": {},
   "outputs": [],
   "source": [
    "import math\n",
    "import random\n",
    "\n",
    "class LoopPadding(object):\n",
    "\n",
    "    def __init__(self, size):\n",
    "        self.size = size\n",
    "\n",
    "    def __call__(self, frame_indices):\n",
    "        out = frame_indices\n",
    "\n",
    "        for index in out:\n",
    "            if len(out) >= self.size:\n",
    "                break\n",
    "            out.append(index)\n",
    "\n",
    "        return out\n",
    "\n",
    "class TemporalEvenCrop(object):\n",
    "\n",
    "    def __init__(self, size, n_samples=1, percentage = .5):\n",
    "        self.size = size\n",
    "        self.n_samples = n_samples\n",
    "        self.loop = LoopPadding(size)\n",
    "        self.per = percentage\n",
    "\n",
    "    def sampling(self, frame_count):\n",
    "\n",
    "        frame_indices = [i for i in range(frame_count)]\n",
    "\n",
    "        n_frames = int(len(frame_indices)*self.per)\n",
    "        stride = max(\n",
    "            1, math.ceil((n_frames - 1 - self.size) / (self.n_samples - 1)))\n",
    "        \n",
    "        # stride = 1\n",
    "\n",
    "        out = []\n",
    "        for begin_index in frame_indices[::stride]:\n",
    "            if len(out) >= self.n_samples:\n",
    "                break\n",
    "            end_index = min(frame_indices[-1] + 1, begin_index + self.size)\n",
    "            sample = list(range(begin_index, end_index))\n",
    "\n",
    "            if len(sample) < self.size:\n",
    "                out.append(self.loop(sample))\n",
    "                break\n",
    "            else:\n",
    "                out.append(sample)\n",
    "\n",
    "        return out"
   ]
  },
  {
   "cell_type": "code",
   "execution_count": 1,
   "metadata": {},
   "outputs": [],
   "source": [
    "import os\n",
    "import glob\n",
    "\n",
    "def num_images(dataset_path,dst_path):\n",
    "\n",
    "    if not os.path.exists(dst_path):\n",
    "        os.makedirs(dst_path)\n",
    "\n",
    "    for image_file in glob.glob(dataset_path+'/*/*/'):\n",
    "        frames_count =0\n",
    "        for files in os.listdir(image_file):\n",
    "            if files.endswith('.jpg'):\n",
    "                frames_count +=1\n",
    "\n",
    "        if frames_count<=0:\n",
    "            print('{} does not have any frames'.format(image_file))\n",
    "            continue\n",
    "        \n",
    "        count_frame_path = os.path.join(dst_path,image_file.split('/',maxsplit=1)[-1])\n",
    "        if not os.path.exists(count_frame_path):\n",
    "            os.makedirs(count_frame_path)\n",
    "\n",
    "        with open(os.path.join(count_frame_path,'n_frames'),'w') as dst_file:\n",
    "            dst_file.write(str(frames_count))\n",
    "\n",
    "num_images(\"UCF-101-JPG\",\"UCF-101-JPG\")"
   ]
  },
  {
   "cell_type": "code",
   "execution_count": 2,
   "metadata": {},
   "outputs": [],
   "source": [
    "class SequenceSampler(object):\n",
    "    def __init__(self, len_scale, frame_skip = 4, **kwags):\n",
    "\n",
    "        assert  len_scale < frame_skip, \"len_scale should be smaller than frame_skip\"\n",
    "\n",
    "        self.len_scale = len_scale\n",
    "        self.frame_skip = frame_skip\n",
    "        self.lenght_video = 187\n",
    "\n",
    "    def sampling(self, video_len):\n",
    "        \n",
    "        start_index = 0\n",
    "\n",
    "        end_index = int(self.lenght_video)\n",
    "\n",
    "        offset = 0\n",
    "        if end_index > video_len:\n",
    "            offset = end_index - video_len\n",
    "\n",
    "            indices = [i for i in range(start_index, video_len)]\n",
    "        \n",
    "            indices += [video_len - 1 for i in range(0, offset)]\n",
    "        else:\n",
    "            indices = [i for i in range(start_index, end_index)]\n",
    "\n",
    "        # indices = [indices[i] for i in range(0, len(indices), self.frame_skip + 1)]\n",
    "        # return indices\n",
    "        indices_list = []\n",
    "        for i in range(0, len(indices), self.frame_skip + self.len_scale):\n",
    "            indices = []\n",
    "            for j in range(self.len_scale):\n",
    "                indices.append(i + j)\n",
    "            indices_list.append(indices)\n",
    "\n",
    "        return indices_list"
   ]
  },
  {
   "cell_type": "code",
   "execution_count": 5,
   "metadata": {},
   "outputs": [
    {
     "name": "stdout",
     "output_type": "stream",
     "text": [
      "[0, 3, 6, 9, 12, 15, 18, 21, 24, 27]\n",
      "[0, 2, 4, 6, 8, 10, 12, 14, 16, 18]\n",
      "[0, 1, 2, 3, 4, 5, 6, 7, 8, 9]\n"
     ]
    }
   ],
   "source": [
    "class FixLenghtSampler(object):\n",
    "    def __init__(self, lenght = 0, skip = 0):\n",
    "        \n",
    "        self.lenght = lenght\n",
    "        self.skip = skip\n",
    "        \n",
    "        pass\n",
    "\n",
    "    def sampling(self, video_len = None):\n",
    "        indices_list = [i*(self.skip + 1) for i in range(0, self.lenght)]\n",
    "        return indices_list\n",
    "\n",
    "a = FixLenghtSampler(10, 2)\n",
    "print(a.sampling())\n",
    "a = FixLenghtSampler(10, 1)\n",
    "print(a.sampling())\n",
    "a = FixLenghtSampler(10, 0)\n",
    "print(a.sampling())\n"
   ]
  },
  {
   "cell_type": "code",
   "execution_count": 6,
   "metadata": {},
   "outputs": [
    {
     "data": {
      "text/plain": [
       "[[0, 1],\n",
       " [6, 7],\n",
       " [12, 13],\n",
       " [18, 19],\n",
       " [24, 25],\n",
       " [30, 31],\n",
       " [36, 37],\n",
       " [42, 43],\n",
       " [48, 49],\n",
       " [54, 55],\n",
       " [60, 61],\n",
       " [66, 67],\n",
       " [72, 73],\n",
       " [78, 79],\n",
       " [84, 85],\n",
       " [90, 91],\n",
       " [96, 97],\n",
       " [102, 103],\n",
       " [108, 109],\n",
       " [114, 115],\n",
       " [120, 121],\n",
       " [126, 127],\n",
       " [132, 133],\n",
       " [138, 139],\n",
       " [144, 145],\n",
       " [150, 151],\n",
       " [156, 157],\n",
       " [162, 163],\n",
       " [168, 169],\n",
       " [174, 175],\n",
       " [180, 181],\n",
       " [186, 187]]"
      ]
     },
     "execution_count": 6,
     "metadata": {},
     "output_type": "execute_result"
    }
   ],
   "source": [
    "a = SequenceSampler(2, 4)\n",
    "a.sampling(187)"
   ]
  },
  {
   "cell_type": "code",
   "execution_count": 1,
   "metadata": {},
   "outputs": [],
   "source": [
    "import csv\n",
    "import os\n",
    "import pandas as pd\n",
    "\n",
    "def load_train_test(train_file, val_file):\n",
    "    with open(train_file) as f:\n",
    "        t_lines = f.readlines()\n",
    "        t_lines = [line.rstrip() for line in t_lines]\n",
    "\n",
    "    with open(val_file) as f:\n",
    "        v_lines = f.readlines()\n",
    "        v_lines = [line.rstrip() for line in v_lines]\n",
    "\n",
    "    t_vids = []\n",
    "    t_labels = []\n",
    "    for line in t_lines:\n",
    "        label, vid = line.split('/')\n",
    "        vid = vid.split('.avi')[0]\n",
    "        t_vids.append(vid)\n",
    "        t_labels.append(label)\n",
    "\n",
    "    v_vids = []\n",
    "    v_labels = []\n",
    "    for line in v_lines:\n",
    "        label, vid = line.split('/')\n",
    "        vid = vid.split('.avi')[0]\n",
    "        v_vids.append(vid)\n",
    "        v_labels.append(label)\n",
    "\n",
    "    train_file = train_file.split('.')[0]+'.csv'\n",
    "    val_file = val_file.split('.')[0]+'.csv'\n",
    "    true_file = train_file.split('train')[0]+'truelist.csv'\n",
    "\n",
    "    train_dict = {'label':t_labels,\n",
    "                  'id':t_vids,\n",
    "                  'split':['train' for _ in t_labels]}\n",
    "\n",
    "    val_dict = {'label':v_labels,\n",
    "                'id':v_vids,\n",
    "                'split':['val' for _ in v_labels]}\n",
    "\n",
    "    true_dict = {'label':t_labels + v_labels,\n",
    "                'id':t_vids + v_vids,\n",
    "                'split':['train' for _ in t_labels] + ['val' for _ in v_labels]}\n",
    "\n",
    "\n",
    "    (pd.DataFrame.from_dict(data=train_dict).to_csv(train_file, header=True, sep=',', index=False))\n",
    "    (pd.DataFrame.from_dict(data=val_dict).to_csv(val_file, header=True, sep=',', index=False))\n",
    "    (pd.DataFrame.from_dict(data=true_dict).to_csv(true_file, header=True, sep=',', index=False))\n",
    "\n",
    "\n",
    "file_pairs = [['label/UCF-101/trainlist01.txt','label/UCF-101/testlist01.txt'],\n",
    "              ['label/UCF-101/trainlist02.txt','label/UCF-101/testlist02.txt'],\n",
    "              ['label/UCF-101/trainlist03.txt','label/UCF-101/testlist03.txt']]\n",
    "for f_pair in file_pairs:\n",
    "    load_train_test(f_pair[0],f_pair[1])\n"
   ]
  },
  {
   "cell_type": "code",
   "execution_count": 15,
   "metadata": {},
   "outputs": [],
   "source": [
    "import random\n",
    "\n",
    "class Auto_skip(object):\n",
    "    def __init__(self, num_frame, percentage = 0.5):\n",
    "        self.num_frame = num_frame\n",
    "        self.per = percentage\n",
    "\n",
    "    def sampling(self, frame_count = 187):\n",
    "\n",
    "        n_frames = int(frame_count*self.per)\n",
    "        \n",
    "        if n_frames >= self.num_frame:\n",
    "            frames = random.sample(range(0, n_frames), self.num_frame)\n",
    "            frames.sort()\n",
    "        else:\n",
    "            frames = [i for i in range(0, n_frames)]\n",
    "\n",
    "            for i in range(n_frames, self.num_frame):\n",
    "                frames.append(n_frames - 1)\n",
    "        \n",
    "\n",
    "        return frames"
   ]
  },
  {
   "cell_type": "code",
   "execution_count": 16,
   "metadata": {},
   "outputs": [],
   "source": [
    "a = Auto_skip(10, 0.5)"
   ]
  },
  {
   "cell_type": "code",
   "execution_count": 26,
   "metadata": {},
   "outputs": [
    {
     "data": {
      "text/plain": [
       "[1, 2, 3, 4, 5, 6, 7, 8, 9, 10]"
      ]
     },
     "execution_count": 26,
     "metadata": {},
     "output_type": "execute_result"
    }
   ],
   "source": [
    "a.sampling(25)"
   ]
  },
  {
   "cell_type": "code",
   "execution_count": 87,
   "metadata": {},
   "outputs": [],
   "source": [
    "import math, random\n",
    "class LoopPadding(object):\n",
    "\n",
    "    def __init__(self, size):\n",
    "        self.size = size\n",
    "\n",
    "    def __call__(self, frame_indices):\n",
    "        out = frame_indices\n",
    "\n",
    "        for index in out:\n",
    "            if len(out) >= self.size:\n",
    "                break\n",
    "            out.append(index)\n",
    "\n",
    "        return out\n",
    "\n",
    "class TemporalRandomEvenCrop(object):\n",
    "\n",
    "    def __init__(self, size, n_samples=1, percentage = .5):\n",
    "        self.size = size\n",
    "        self.n_samples = n_samples\n",
    "        self.loop = LoopPadding(size)\n",
    "        self.per = percentage\n",
    "\n",
    "    def sampling(self, frame_count):\n",
    "\n",
    "\n",
    "        n_frames = int(frame_count*self.per)\n",
    "        frame_indices = [i for i in range(n_frames)]\n",
    "\n",
    "        stride = 1\n",
    "        if self.n_samples != 1:\n",
    "            stride = max(\n",
    "                1, math.ceil((n_frames - 1 - self.size) / (self.n_samples - 1)))\n",
    "        print(frame_indices[::stride])\n",
    "        # stride = 1\n",
    "\n",
    "        out = []\n",
    "        count = self.n_samples\n",
    "        while count != 0:\n",
    "            for begin_index in frame_indices[::stride]:\n",
    "                count -= 1\n",
    "                if len(out) >= self.n_samples:\n",
    "                    break\n",
    "\n",
    "                if stride != 1 and stride > self.size:\n",
    "                    end_index = min(frame_indices[-1] + 1, begin_index + stride)\n",
    "                else:\n",
    "                    end_index = min(frame_indices[-1] + 1, begin_index + self.size)\n",
    "\n",
    "\n",
    "                offset = end_index - begin_index\n",
    "                if offset >= self.size:\n",
    "                    sample = random.sample(range(begin_index, end_index), self.size)\n",
    "                else:\n",
    "                    sample = random.sample(range(begin_index, end_index), offset)\n",
    "\n",
    "                sample.sort()\n",
    "\n",
    "                if len(sample) < self.size:\n",
    "                    out.append(self.loop(sample))\n",
    "                    break\n",
    "                else:\n",
    "                    out.append(sample)\n",
    "\n",
    "                if count == 0:\n",
    "                    break\n",
    "\n",
    "        return out\n",
    "\n",
    "class TemporalEvenCrop(object):\n",
    "\n",
    "    def __init__(self, size, n_samples=1, percentage = .5):\n",
    "        self.size = size\n",
    "        self.n_samples = n_samples\n",
    "        self.loop = LoopPadding(size)\n",
    "        self.per = percentage\n",
    "\n",
    "    def sampling(self, frame_count):\n",
    "\n",
    "\n",
    "        n_frames = int(frame_count*self.per)\n",
    "        frame_indices = [i for i in range(n_frames)]\n",
    "\n",
    "        stride = 1\n",
    "        if self.n_samples != 1:\n",
    "            stride = max(\n",
    "                1, math.ceil((n_frames - 1 - self.size) / (self.n_samples - 1)))\n",
    "        print(frame_indices[::stride])\n",
    "        # stride = 1\n",
    "\n",
    "        out = []\n",
    "        count = self.n_samples\n",
    "        while count != 0:\n",
    "            for begin_index in frame_indices[::stride]:\n",
    "                count -= 1\n",
    "                if len(out) >= self.n_samples:\n",
    "                    break\n",
    "\n",
    "                if stride != 1 and stride > self.size:\n",
    "                    end_index = min(frame_indices[-1] + 1, begin_index + stride)\n",
    "                else:\n",
    "                    end_index = min(frame_indices[-1] + 1, begin_index + self.size)\n",
    "\n",
    "\n",
    "                offset = end_index - begin_index\n",
    "                if offset >= self.size:\n",
    "                    start = random.sample(range(begin_index, end_index - self.size + 1), 1)[0]\n",
    "                    sample = list(range(start, start + self.size))\n",
    "                else:\n",
    "                    sample = random.sample(range(begin_index, end_index), offset)\n",
    "\n",
    "                sample.sort()\n",
    "\n",
    "\n",
    "                if len(sample) < self.size:\n",
    "                    out.append(self.loop(sample))\n",
    "                    break\n",
    "                else:\n",
    "                    out.append(sample)\n",
    "\n",
    "                if count == 0:\n",
    "                    break\n",
    "\n",
    "        return out"
   ]
  },
  {
   "cell_type": "code",
   "execution_count": 88,
   "metadata": {},
   "outputs": [],
   "source": [
    "a = TemporalRandomEvenCrop(16, 3, 0.5)\n",
    "b = TemporalEvenCrop(16, 3, 0.5)"
   ]
  },
  {
   "cell_type": "code",
   "execution_count": 105,
   "metadata": {},
   "outputs": [
    {
     "name": "stdout",
     "output_type": "stream",
     "text": [
      "[0, 4, 8, 12, 16, 20, 24]\n"
     ]
    },
    {
     "data": {
      "text/plain": [
       "[[0, 1, 2, 3, 4, 5, 6, 7, 8, 9, 10, 11, 12, 13, 14, 15],\n",
       " [4, 5, 6, 7, 8, 9, 10, 11, 12, 13, 14, 15, 16, 17, 18, 19],\n",
       " [8, 9, 10, 11, 12, 13, 14, 15, 16, 17, 18, 19, 20, 21, 22, 23]]"
      ]
     },
     "execution_count": 105,
     "metadata": {},
     "output_type": "execute_result"
    }
   ],
   "source": [
    "b.sampling(50)"
   ]
  },
  {
   "cell_type": "code",
   "execution_count": 103,
   "metadata": {},
   "outputs": [
    {
     "name": "stdout",
     "output_type": "stream",
     "text": [
      "[0, 38, 76]\n"
     ]
    },
    {
     "data": {
      "text/plain": [
       "[[3, 6, 8, 10, 11, 13, 14, 16, 19, 20, 22, 26, 33, 35, 36, 37],\n",
       " [38, 39, 40, 43, 46, 53, 54, 55, 58, 61, 62, 65, 68, 70, 73, 74],\n",
       " [76, 77, 78, 79, 80, 81, 82, 83, 84, 85, 86, 88, 89, 90, 91, 92]]"
      ]
     },
     "execution_count": 103,
     "metadata": {},
     "output_type": "execute_result"
    }
   ],
   "source": [
    "a.sampling(187)"
   ]
  }
 ],
 "metadata": {
  "kernelspec": {
   "display_name": "TemPr4",
   "language": "python",
   "name": "python3"
  },
  "language_info": {
   "codemirror_mode": {
    "name": "ipython",
    "version": 3
   },
   "file_extension": ".py",
   "mimetype": "text/x-python",
   "name": "python",
   "nbconvert_exporter": "python",
   "pygments_lexer": "ipython3",
   "version": "3.8.16"
  },
  "orig_nbformat": 4
 },
 "nbformat": 4,
 "nbformat_minor": 2
}
