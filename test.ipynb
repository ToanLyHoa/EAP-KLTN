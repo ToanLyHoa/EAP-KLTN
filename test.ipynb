{
 "cells": [
  {
   "cell_type": "code",
   "execution_count": 1,
   "metadata": {},
   "outputs": [],
   "source": [
    "import os\n",
    "import pandas as pd\n",
    "\n",
    "path_dir = \"label/UCF-101\"\n",
    "\n",
    "def new_csv(path_dir):\n",
    "    '''\n",
    "    [Args]\n",
    "    path_dir : path to folder contain train.csv, val.csv and newClassInd.txt which hold labels of class remained\n",
    "\n",
    "    [Result]\n",
    "    Create new_train.csv and new_val.csv save at path_dir \n",
    "\n",
    "    '''\n",
    "    # Read path\n",
    "    train = os.path.join(path_dir,'train.csv')\n",
    "    val = os.path.join(path_dir,'val.csv')\n",
    "    new_class = os.path.join(path_dir,'newClassInd.txt')\n",
    "    new_train = os.path.join(path_dir,'new_train.csv')\n",
    "    new_val = os.path.join(path_dir,'new_val.csv')\n",
    "\n",
    "    if not os.path.exists(new_train):\n",
    "        open(new_train, 'w').close() \n",
    "    if not os.path.exists(new_val):\n",
    "        open(new_val, 'w').close() \n",
    "\n",
    "    df_csv_train= pd.read_csv(train)\n",
    "    df_csv_val = pd.read_csv(val)\n",
    "\n",
    "    # Take lables to keep in new file csv\n",
    "    with open(new_class,'r') as f:\n",
    "        labels_keep = set(line.strip().split(' ')[1] for line in f)\n",
    "\n",
    "    # Filter train.csv\n",
    "    df_filtered_train = df_csv_train[df_csv_train['label'].isin(labels_keep)]\n",
    "    df_filtered_train.to_csv(new_train, index=False)\n",
    "\n",
    "    # Filter val.csv\n",
    "    df_filtered_val = df_csv_val[df_csv_val['label'].isin(labels_keep)]\n",
    "    df_filtered_val.to_csv(new_val, index=False)\n",
    "\n",
    "new_csv(path_dir)\n",
    "\n",
    "\n"
   ]
  }
 ],
 "metadata": {
  "kernelspec": {
   "display_name": "TemPr4",
   "language": "python",
   "name": "python3"
  },
  "language_info": {
   "codemirror_mode": {
    "name": "ipython",
    "version": 3
   },
   "file_extension": ".py",
   "mimetype": "text/x-python",
   "name": "python",
   "nbconvert_exporter": "python",
   "pygments_lexer": "ipython3",
   "version": "3.8.16"
  },
  "orig_nbformat": 4
 },
 "nbformat": 4,
 "nbformat_minor": 2
}
